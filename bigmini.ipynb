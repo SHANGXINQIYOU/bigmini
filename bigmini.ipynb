{
 "cells": [
  {
   "cell_type": "code",
   "execution_count": 1,
   "id": "f7f82b97-9ebd-4b00-bd0f-63caa3f6b785",
   "metadata": {},
   "outputs": [
    {
     "data": {
      "text/plain": [
       "(0, 1000000)"
      ]
     },
     "execution_count": 1,
     "metadata": {},
     "output_type": "execute_result"
    }
   ],
   "source": [
    "import numpy as np\n",
    "\n",
    "def empty_glasses(glasses, index):\n",
    "    \"\"\"\n",
    "    Empties the selected glass and an adjacent one with more or equal amount of water.\n",
    "    If adjacent glasses have equal amounts, one is chosen randomly to be emptied.\n",
    "    \"\"\"\n",
    "    glasses[index] = 0\n",
    "    \n",
    "    left_index = (index - 1) % len(glasses)\n",
    "    right_index = (index + 1) % len(glasses)\n",
    "    \n",
    "    if glasses[left_index] > glasses[right_index]:\n",
    "        glasses[left_index] = 0\n",
    "    elif glasses[right_index] > glasses[left_index]:\n",
    "        glasses[right_index] = 0\n",
    "    else:\n",
    "        if np.random.rand() > 0.5:\n",
    "            glasses[left_index] = 0\n",
    "        else:\n",
    "            glasses[right_index] = 0\n",
    "\n",
    "    return glasses\n",
    "\n",
    "def simulate_round():\n",
    "    \"\"\"\n",
    "    Simulates one round of the game where player A distributes water and player B empties glasses.\n",
    "    \"\"\"\n",
    "    glasses = [0, 0, 0]  \n",
    "    player_a_distributes = 0.5  \n",
    "    \n",
    "    distribution = np.random.rand(3)\n",
    "    distribution /= distribution.sum()\n",
    "    distribution *= player_a_distributes\n",
    "    glasses += distribution\n",
    "    \n",
    "    max_index = np.argmax(glasses)\n",
    "    glasses = empty_glasses(glasses, max_index)\n",
    "    \n",
    "    is_overflow = any(g > 1 for g in glasses)\n",
    "    \n",
    "    return is_overflow\n",
    "\n",
    "\n",
    "def simulate_games(n_simulations):\n",
    "    \"\"\"\n",
    "    Simulates the game multiple times and records the outcome for both Ali and Beth.\n",
    "    \"\"\"\n",
    "    ali_wins = 0\n",
    "    beth_wins = 0\n",
    "    for _ in range(n_simulations):\n",
    "        if simulate_round():\n",
    "            ali_wins += 1\n",
    "        else:\n",
    "            beth_wins += 1\n",
    "\n",
    "    return ali_wins, beth_wins\n",
    "\n",
    "n_simulations = 1000000\n",
    "\n",
    "ali_wins, beth_wins = simulate_games(n_simulations)\n",
    "ali_wins, beth_wins\n"
   ]
  },
  {
   "cell_type": "code",
   "execution_count": 2,
   "id": "a590eb32-8a4c-4124-a2d5-28a04b6dca9b",
   "metadata": {},
   "outputs": [
    {
     "data": {
      "text/plain": [
       "(0, 1000000)"
      ]
     },
     "execution_count": 2,
     "metadata": {},
     "output_type": "execute_result"
    }
   ],
   "source": [
    "def empty_glasses_alternating(glasses, round_number):\n",
    "    \"\"\"\n",
    "    Empties two adjacent glasses in an alternating pattern every round.\n",
    "    The pair to be emptied is chosen based on the round number.\n",
    "    \"\"\"\n",
    "    pair_to_empty = round_number % 2  \n",
    "    \n",
    "    if pair_to_empty == 0:\n",
    "        glasses[0] = glasses[1] = 0\n",
    "    else:\n",
    "        glasses[2] = glasses[3] = 0\n",
    "\n",
    "    return glasses\n",
    "\n",
    "def simulate_round_alternating(round_number):\n",
    "    \"\"\"\n",
    "    Simulates one round of the game where player A distributes water randomly\n",
    "    and player B empties two adjacent glasses in an alternating pattern.\n",
    "    \"\"\"\n",
    "    glasses = [0, 0, 0, 0]  \n",
    "    player_a_distributes = 0.5  \n",
    "    \n",
    "    distribution = np.random.rand(4)\n",
    "    distribution /= distribution.sum()\n",
    "    distribution *= player_a_distributes\n",
    "    glasses += distribution\n",
    "    \n",
    "    glasses = empty_glasses_alternating(glasses, round_number)\n",
    "    \n",
    "    is_overflow = any(g > 1 for g in glasses)\n",
    "    \n",
    "    return is_overflow\n",
    "\n",
    "def simulate_games_alternating(n_simulations):\n",
    "    \"\"\"\n",
    "    Simulates the game multiple times and records the outcome for both players.\n",
    "    An alternating emptying pattern for Beth is used.\n",
    "    \"\"\"\n",
    "    ali_wins = 0\n",
    "    beth_wins = 0\n",
    "    for i in range(n_simulations):\n",
    "        for round_number in range(4):\n",
    "            if simulate_round_alternating(round_number):\n",
    "                ali_wins += 1\n",
    "                break\n",
    "        else:\n",
    "            beth_wins += 1\n",
    "\n",
    "    return ali_wins, beth_wins\n",
    "\n",
    "n_simulations = 1000000\n",
    "\n",
    "ali_wins, beth_wins = simulate_games_alternating(n_simulations)\n",
    "ali_wins, beth_wins\n"
   ]
  },
  {
   "cell_type": "code",
   "execution_count": 3,
   "id": "b19d63ee-45cf-418c-8b6e-fc4e0d29c7b1",
   "metadata": {},
   "outputs": [
    {
     "data": {
      "text/plain": [
       "0.7499998341945602"
      ]
     },
     "execution_count": 3,
     "metadata": {},
     "output_type": "execute_result"
    }
   ],
   "source": [
    "a_1 = 0.3\n",
    "n_final = 30\n",
    "\n",
    "a_n = a_1\n",
    "\n",
    "for n in range(1, n_final):\n",
    "    a_n = ((a_n + 0.5) / 5) * 3\n",
    "\n",
    "a_n\n",
    "\n"
   ]
  },
  {
   "cell_type": "code",
   "execution_count": 4,
   "id": "78055578-c182-4b60-b062-ac66f460b488",
   "metadata": {},
   "outputs": [
    {
     "data": {
      "text/plain": [
       "0.4999999995343387"
      ]
     },
     "execution_count": 4,
     "metadata": {},
     "output_type": "execute_result"
    }
   ],
   "source": [
    "a_1 = 0.25\n",
    "n_final = 30\n",
    "\n",
    "a_n = a_1\n",
    "\n",
    "for n in range(1, n_final):\n",
    "    a_n = (a_n + 0.5) / 2\n",
    "\n",
    "a_n"
   ]
  },
  {
   "cell_type": "code",
   "execution_count": 5,
   "id": "6ad5f332-f998-4d80-84fc-cf2ad56ce005",
   "metadata": {},
   "outputs": [
    {
     "data": {
      "text/plain": [
       "0.24999999999999878"
      ]
     },
     "execution_count": 5,
     "metadata": {},
     "output_type": "execute_result"
    }
   ],
   "source": [
    "a_1 = 1/6\n",
    "n_final = 30\n",
    "\n",
    "a_n = a_1\n",
    "\n",
    "for n in range(1, n_final):\n",
    "    a_n = (a_n + 0.5) / 3\n",
    "\n",
    "a_n"
   ]
  },
  {
   "cell_type": "code",
   "execution_count": 6,
   "id": "354dbf4e-a802-431e-b03e-a074a05a9f71",
   "metadata": {},
   "outputs": [
    {
     "data": {
      "text/plain": [
       "(0, 1000000)"
      ]
     },
     "execution_count": 6,
     "metadata": {},
     "output_type": "execute_result"
    }
   ],
   "source": [
    "# Here's the Python code for the new scenario with 5 glasses:\n",
    "\n",
    "import numpy as np\n",
    "\n",
    "def empty_glasses_with_highest_sum(glasses):\n",
    "    # Empty two adjacent glasses with the highest total sum of water\n",
    "    max_sum = -1\n",
    "    max_index = -1\n",
    "    \n",
    "    # Iterate through the glasses to find the pair with the highest sum\n",
    "    for i in range(len(glasses)):\n",
    "        # Calculate the sum of each pair of adjacent glasses, wrapping around the list\n",
    "        current_sum = glasses[i] + glasses[(i + 1) % len(glasses)]\n",
    "        if current_sum > max_sum:\n",
    "            max_sum = current_sum\n",
    "            max_index = i\n",
    "\n",
    "    # Empty the glasses with the highest sum\n",
    "    glasses[max_index] = 0\n",
    "    glasses[(max_index + 1) % len(glasses)] = 0\n",
    "    return glasses\n",
    "\n",
    "def simulate_round_with_highest_sum():\n",
    "    glasses = [0, 0, 0, 0, 0]  # Start with all glasses empty\n",
    "    player_a_distributes = 0.5  # Half a pint distributed by player A\n",
    "    \n",
    "    # Player A distributes water randomly in five glasses\n",
    "    distribution = np.random.rand(5)\n",
    "    distribution /= distribution.sum()\n",
    "    distribution *= player_a_distributes\n",
    "    glasses += distribution\n",
    "    \n",
    "    # Player B acts: empty glasses with the highest sum of water\n",
    "    glasses = empty_glasses_with_highest_sum(glasses)\n",
    "    \n",
    "    # Check if any glass is overflowing\n",
    "    is_overflow = any(g > 1 for g in glasses)\n",
    "    return is_overflow\n",
    "\n",
    "def simulate_games_with_highest_sum(n_simulations):\n",
    "    ali_wins = 0\n",
    "    beth_wins = 0\n",
    "    for _ in range(n_simulations):\n",
    "        if simulate_round_with_highest_sum():\n",
    "            ali_wins += 1\n",
    "        else:\n",
    "            beth_wins += 1\n",
    "    return ali_wins, beth_wins\n",
    "\n",
    "# To simulate the game 10 times, call the function with n_simulations set to 10\n",
    "simulate_games_with_highest_sum(1000000)\n"
   ]
  },
  {
   "cell_type": "code",
   "execution_count": null,
   "id": "bdab248b-2836-4a94-aef2-4c7102209153",
   "metadata": {},
   "outputs": [],
   "source": []
  }
 ],
 "metadata": {
  "kernelspec": {
   "display_name": "Python 3 (ipykernel)",
   "language": "python",
   "name": "python3"
  },
  "language_info": {
   "codemirror_mode": {
    "name": "ipython",
    "version": 3
   },
   "file_extension": ".py",
   "mimetype": "text/x-python",
   "name": "python",
   "nbconvert_exporter": "python",
   "pygments_lexer": "ipython3",
   "version": "3.9.7"
  }
 },
 "nbformat": 4,
 "nbformat_minor": 5
}
